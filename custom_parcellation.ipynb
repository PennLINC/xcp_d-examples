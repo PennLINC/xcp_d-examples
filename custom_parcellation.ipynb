{
 "cells": [
  {
   "cell_type": "markdown",
   "metadata": {},
   "source": [
    "# Parcellate XCP-D denoised BOLD with a custom atlas\n",
    "\n",
    "Users may want to parcellate their denoised BOLD data with an atlas that isn't built into XCP-D.\n",
    "They _could_ simply use a NiftiLabelsMasker to parcellate the data, but this would ignore some of the extra steps that XCP-D applies, including the removal of missing voxels/vertices and the application of a minimum coverage threshold.\n",
    "\n",
    "This notebook assumes that the atlas is in the same space and resolution as the denoised BOLD data.\n",
    "If it is not, then the user will need to warp the atlas to the right space and resolution ahead of time."
   ]
  },
  {
   "cell_type": "code",
   "execution_count": null,
   "metadata": {},
   "outputs": [],
   "source": [
    "from xcp_d.interfaces.connectivity import CiftiConnect, NiftiConnect"
   ]
  },
  {
   "cell_type": "code",
   "execution_count": null,
   "metadata": {},
   "outputs": [],
   "source": [
    "xcpd_dir = \"/Users/taylor/Documents/datasets/ds003643/derivatives/xcp_d/sub-EN100/func\"\n",
    "fmriprep_dir = \"/Users/taylor/Documents/datasets/ds003643/derivatives/fmriprep/sub-EN100/func\"\n",
    "\n",
    "custom_atlas = \"\"\n",
    "\n",
    "filtered_file = os.path.join(xcpd_dir, \"sub-EN100_task-lppEN_run-1_space-MNI152NLin6Asym_desc-denoised_bold.nii.gz\")\n",
    "mask = os.path.join(fmriprep_dir, \"sub-EN100_task-lppEN_run-1_space-MNI152NLin6Asym_desc-brain_mask.nii.gz\")\n",
    "temporal_mask = os.path.join(xcpd_dir, \"sub-EN100_task-lppEN_run-1_outliers.tsv\")\n",
    "\n",
    "min_coverage = 0.5  # use the same threshold you used for the XCP-D call\n",
    "correlate = True"
   ]
  },
  {
   "cell_type": "code",
   "execution_count": null,
   "metadata": {},
   "outputs": [],
   "source": [
    "nifti_atlas = \"\"\n",
    "\n",
    "# Step 1. Mock up an atlas labels file\n",
    "nifti_atlas_labels = \"\"\n",
    "\n",
    "# Step 2. Warp the atlas to the same space as the BOLD file\n",
    "transform_files = get_std2bold_xfms(nifti_file)\n",
    "\n",
    "grab_first_volume = IndexImage(\n",
    "    in_file=nifti_file,\n",
    "    index=0,\n",
    ")\n",
    "gfv_results = grab_first_volume.run()\n",
    "\n",
    "warp_atlases_to_bold_space = ApplyTransforms(\n",
    "    interpolation=\"GenericLabel\",\n",
    "    input_image_type=3,\n",
    "    dimension=3,\n",
    "    reference_image=gfv_results.out_file,\n",
    "    input_image=nifti_atlas,\n",
    "    transforms=transform_files,\n",
    ")\n",
    "watbs_results = warp_atlases_to_bold_space.run()\n",
    "warped_nifti_atlas = watbs_results.output_image\n",
    "\n",
    "# Step 3. Parcellate the BOLD file\n",
    "interface = NiftiConnect(\n",
    "    filtered_file=nifti_file,\n",
    "    mask=mask,\n",
    "    temporal_mask=temporal_mask,\n",
    "    atlas=warped_nifti_atlas,\n",
    "    atlas_labels=nifti_atlas_labels,\n",
    "    min_coverage=min_coverage,\n",
    "    correlate=True,\n",
    ")\n",
    "results = interface.run()\n",
    "timeseries_file = results.timeseries\n",
    "correlations_file = resutls.correlations"
   ]
  },
  {
   "cell_type": "code",
   "execution_count": null,
   "metadata": {},
   "outputs": [],
   "source": [
    "cifti_atlas = \"\"\n",
    "\n",
    "# Step 1. Mock up an atlas labels file\n",
    "cifti_atlas_labels = \"\"\n",
    "\n",
    "# Step 2. Parcellate the CIFTI atlas\n",
    "resample_atlas_to_data = CiftiCreateDenseFromTemplate(\n",
    "    template_cifti=cifti_file,\n",
    "    label=cifti_atlas,\n",
    ")\n",
    "ratd_results = resample_atlas_to_data.run()\n",
    "\n",
    "parcellate_atlas = CiftiParcellate(\n",
    "    direction=\"COLUMN\",\n",
    "    only_numeric=True,\n",
    "    atlas_label=cifti_atlas,\n",
    "    in_file=ratd_results.cifti_out,\n",
    "    out_file=\"parcellated_atlas.pscalar.nii\",\n",
    ")\n",
    "pa_results = parcellate_atlas.run()\n",
    "parcellated_cifti_atlas = pa_results.out_file\n",
    "\n",
    "cifti_atlas_int16 = cast_cifti_to_int16(ratd_results.cifti_out)\n",
    "\n",
    "# Step 3. Parcellate the BOLD file\n",
    "interface = CiftiConnect(\n",
    "    data_file=cifti_file,\n",
    "    temporal_mask=temporal_mask,\n",
    "    atlas_file=cifti_atlas_int16,\n",
    "    parcellated_atlas=parcellated_cifti_atlas,\n",
    "    atlas_labels=cifti_atlas_labels,\n",
    "    min_coverage=min_coverage,\n",
    "    correlate=True,\n",
    ")\n",
    "results = interface.run()\n",
    "timeseries_file = results.timeseries\n",
    "timeseries_cifti_file = results.timeseries_ciftis\n",
    "correlations_file = results.correlations\n",
    "correlations_cifti_file = results.correlation_ciftis"
   ]
  }
 ],
 "metadata": {
  "kernelspec": {
   "display_name": "Python 3",
   "language": "python",
   "name": "python3"
  },
  "language_info": {
   "codemirror_mode": {
    "name": "ipython",
    "version": 3
   },
   "file_extension": ".py",
   "mimetype": "text/x-python",
   "name": "python",
   "nbconvert_exporter": "python",
   "pygments_lexer": "ipython3",
   "version": "3.8.5"
  }
 },
 "nbformat": 4,
 "nbformat_minor": 4
}
